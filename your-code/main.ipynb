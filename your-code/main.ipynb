{
 "cells": [
  {
   "cell_type": "markdown",
   "metadata": {},
   "source": [
    "## Words"
   ]
  },
  {
   "cell_type": "code",
   "execution_count": 1,
   "metadata": {},
   "outputs": [],
   "source": [
    "words = ['play', 'filling', 'bar', 'theatre', 'easygoing', 'date', 'lead', 'that', 'story',  'island']"
   ]
  },
  {
   "cell_type": "markdown",
   "metadata": {},
   "source": [
    "**Print every word in upper case**"
   ]
  },
  {
   "cell_type": "code",
   "execution_count": 2,
   "metadata": {},
   "outputs": [
    {
     "name": "stdout",
     "output_type": "stream",
     "text": [
      "['PLAY', 'FILLING', 'BAR', 'THEATRE', 'EASYGOING', 'DATE', 'LEAD', 'THAT', 'STORY', 'ISLAND']\n"
     ]
    }
   ],
   "source": [
    "# your code here\n",
    "upper_words = []\n",
    "\n",
    "for word in words:\n",
    "    upper_words.append(word.upper())\n",
    "\n",
    "print(upper_words)"
   ]
  },
  {
   "cell_type": "markdown",
   "metadata": {},
   "source": [
    "**Create a new list containing only words with 5 or more letters**"
   ]
  },
  {
   "cell_type": "code",
   "execution_count": 3,
   "metadata": {},
   "outputs": [
    {
     "name": "stdout",
     "output_type": "stream",
     "text": [
      "['filling', 'theatre', 'easygoing', 'story', 'island']\n"
     ]
    }
   ],
   "source": [
    "# your code here\n",
    "new_list = []\n",
    "\n",
    "for word in words:\n",
    "    if len(word) >= 5:\n",
    "        new_list.append(word)\n",
    "\n",
    "print(new_list)"
   ]
  },
  {
   "cell_type": "markdown",
   "metadata": {},
   "source": [
    "**Print the first word starting with \"t\"**"
   ]
  },
  {
   "cell_type": "code",
   "execution_count": 8,
   "metadata": {},
   "outputs": [
    {
     "name": "stdout",
     "output_type": "stream",
     "text": [
      "theatre\n"
     ]
    }
   ],
   "source": [
    "# your code here\n",
    "for word in words:\n",
    "    if word[0] == \"t\":\n",
    "        print(word)\n",
    "        break"
   ]
  },
  {
   "cell_type": "markdown",
   "metadata": {},
   "source": [
    "## Numbers"
   ]
  },
  {
   "cell_type": "markdown",
   "metadata": {},
   "source": [
    "**Create a list containing the square of every number from 1 to 10**"
   ]
  },
  {
   "cell_type": "code",
   "execution_count": 9,
   "metadata": {},
   "outputs": [
    {
     "name": "stdout",
     "output_type": "stream",
     "text": [
      "[1, 4, 9, 16, 25, 36, 49, 64, 81, 100]\n"
     ]
    }
   ],
   "source": [
    "# your code here\n",
    "numbers = [1, 2, 3, 4, 5, 6, 7, 8, 9, 10]\n",
    "square_numbers = []\n",
    "\n",
    "for number in numbers:\n",
    "    square_numbers.append(number**2)\n",
    "\n",
    "print(square_numbers)"
   ]
  },
  {
   "cell_type": "markdown",
   "metadata": {},
   "source": [
    "**Print a list containing the square of every odd number from 1 to 10**"
   ]
  },
  {
   "cell_type": "code",
   "execution_count": 11,
   "metadata": {},
   "outputs": [
    {
     "name": "stdout",
     "output_type": "stream",
     "text": [
      "[1, 9, 25, 49, 81]\n"
     ]
    }
   ],
   "source": [
    "# your code here\n",
    "square_numbers_odd = []\n",
    "\n",
    "for number in numbers:\n",
    "    if number % 2 != 0:\n",
    "        square_numbers_odd.append(number**2)\n",
    "\n",
    "print(square_numbers_odd)"
   ]
  },
  {
   "cell_type": "markdown",
   "metadata": {},
   "source": [
    "**Create a list with the squares of all multiples of 8 below 1000**"
   ]
  },
  {
   "cell_type": "code",
   "execution_count": 19,
   "metadata": {},
   "outputs": [
    {
     "name": "stdout",
     "output_type": "stream",
     "text": [
      "[0, 8, 16, 24, 32, 40, 48, 56, 64, 72, 80, 88, 96, 104, 112, 120, 128, 136, 144, 152, 160, 168, 176, 184, 192, 200, 208, 216, 224, 232, 240, 248, 256, 264, 272, 280, 288, 296, 304, 312, 320, 328, 336, 344, 352, 360, 368, 376, 384, 392, 400, 408, 416, 424, 432, 440, 448, 456, 464, 472, 480, 488, 496, 504, 512, 520, 528, 536, 544, 552, 560, 568, 576, 584, 592, 600, 608, 616, 624, 632, 640, 648, 656, 664, 672, 680, 688, 696, 704, 712, 720, 728, 736, 744, 752, 760, 768, 776, 784, 792, 800, 808, 816, 824, 832, 840, 848, 856, 864, 872, 880, 888, 896, 904, 912, 920, 928, 936, 944, 952, 960, 968, 976, 984, 992]\n"
     ]
    }
   ],
   "source": [
    "# your code here\n",
    "numbers_list = []\n",
    "multiples_8 = []\n",
    "\n",
    "for i in range(0,1000):\n",
    "    numbers_list.append(i)\n",
    "    if i % 8 == 0:\n",
    "        multiples_8.append(i)\n",
    "\n",
    "print(multiples_8)"
   ]
  },
  {
   "cell_type": "markdown",
   "metadata": {},
   "source": [
    "## People"
   ]
  },
  {
   "cell_type": "code",
   "execution_count": 53,
   "metadata": {},
   "outputs": [],
   "source": [
    "people = [\n",
    "    {\n",
    "        \"name\": \"Juan\",\n",
    "        \"age\": 34,\n",
    "        \"n_kids\": 2\n",
    "    },\n",
    "    {\n",
    "        \"name\": \"Pepe\",\n",
    "        \"age\": 27,\n",
    "        \"n_kids\": 0\n",
    "    },\n",
    "    {\n",
    "        \"name\": \"Sonia\",\n",
    "        \"age\": 41,\n",
    "        \"n_kids\": 1\n",
    "    },\n",
    "    {\n",
    "        \"name\": \"Lucía\",\n",
    "        \"age\": 22,\n",
    "        \"n_kids\": 2\n",
    "    },\n",
    "    {\n",
    "        \"name\": \"Leo\",\n",
    "        \"age\": 55,\n",
    "        \"n_kids\": 5\n",
    "    }\n",
    "]"
   ]
  },
  {
   "cell_type": "markdown",
   "metadata": {},
   "source": [
    "**How many people are there?**"
   ]
  },
  {
   "cell_type": "code",
   "execution_count": 21,
   "metadata": {},
   "outputs": [
    {
     "data": {
      "text/plain": [
       "5"
      ]
     },
     "execution_count": 21,
     "metadata": {},
     "output_type": "execute_result"
    }
   ],
   "source": [
    "# your code here\n",
    "len(people)"
   ]
  },
  {
   "cell_type": "markdown",
   "metadata": {},
   "source": [
    "**How many people have kids**?"
   ]
  },
  {
   "cell_type": "code",
   "execution_count": 45,
   "metadata": {},
   "outputs": [
    {
     "name": "stdout",
     "output_type": "stream",
     "text": [
      "['Juan', 'Sonia', 'Lucía', 'Leo']\n",
      "4 people have kids\n"
     ]
    }
   ],
   "source": [
    "people_kids = []\n",
    "\n",
    "for person in people:\n",
    "    if person[\"n_kids\"] > 0:\n",
    "        people_kids.append(person[\"name\"])\n",
    "\n",
    "print(people_kids)\n",
    "print(len(people_kids), \"people have kids\")"
   ]
  },
  {
   "cell_type": "markdown",
   "metadata": {},
   "source": [
    "**How many kids do they have in total?**"
   ]
  },
  {
   "cell_type": "code",
   "execution_count": 47,
   "metadata": {},
   "outputs": [
    {
     "name": "stdout",
     "output_type": "stream",
     "text": [
      "10\n"
     ]
    }
   ],
   "source": [
    "# your code here\n",
    "kids_number = []\n",
    "kids_sum = 0\n",
    "\n",
    "for person in people:\n",
    "    kids_number.append(person[\"n_kids\"])\n",
    "\n",
    "for number in kids_number:\n",
    "    kids_sum += number\n",
    "    \n",
    "print(kids_sum)"
   ]
  },
  {
   "cell_type": "markdown",
   "metadata": {},
   "source": [
    "**In a year's time, names ending with \"a\" will have an extra kid. Create a list of dictionaries with people's info in a year's time**"
   ]
  },
  {
   "cell_type": "code",
   "execution_count": 54,
   "metadata": {},
   "outputs": [
    {
     "name": "stdout",
     "output_type": "stream",
     "text": [
      "[{'name': 'Juan', 'age': 35, 'n-kids': 2}, {'name': 'Pepe', 'age': 28, 'n-kids': 0}, {'name': 'Sonia', 'age': 42, 'n-kids': 2}, {'name': 'Lucía', 'age': 23, 'n-kids': 3}, {'name': 'Leo', 'age': 56, 'n-kids': 5}]\n"
     ]
    }
   ],
   "source": [
    "# your code here\n",
    "updated_people = []\n",
    "\n",
    "for person in people:\n",
    "    if person[\"name\"][-1] == \"a\":\n",
    "        person[\"n_kids\"] += 1\n",
    "    updated_person = {\n",
    "        \"name\": person[\"name\"],\n",
    "        \"age\": person[\"age\"] + 1,\n",
    "        \"n-kids\": person[\"n_kids\"]\n",
    "    }\n",
    "    updated_people.append(updated_person)\n",
    "\n",
    "print(updated_people)\n",
    "    \n"
   ]
  }
 ],
 "metadata": {
  "kernelspec": {
   "display_name": "Python 3 (ipykernel)",
   "language": "python",
   "name": "python3"
  },
  "language_info": {
   "codemirror_mode": {
    "name": "ipython",
    "version": 3
   },
   "file_extension": ".py",
   "mimetype": "text/x-python",
   "name": "python",
   "nbconvert_exporter": "python",
   "pygments_lexer": "ipython3",
   "version": "3.12.3"
  },
  "toc": {
   "base_numbering": 1,
   "nav_menu": {},
   "number_sections": false,
   "sideBar": true,
   "skip_h1_title": false,
   "title_cell": "Table of Contents",
   "title_sidebar": "Contents",
   "toc_cell": false,
   "toc_position": {},
   "toc_section_display": true,
   "toc_window_display": true
  },
  "varInspector": {
   "cols": {
    "lenName": 16,
    "lenType": 16,
    "lenVar": 40
   },
   "kernels_config": {
    "python": {
     "delete_cmd_postfix": "",
     "delete_cmd_prefix": "del ",
     "library": "var_list.py",
     "varRefreshCmd": "print(var_dic_list())"
    },
    "r": {
     "delete_cmd_postfix": ") ",
     "delete_cmd_prefix": "rm(",
     "library": "var_list.r",
     "varRefreshCmd": "cat(var_dic_list()) "
    }
   },
   "types_to_exclude": [
    "module",
    "function",
    "builtin_function_or_method",
    "instance",
    "_Feature"
   ],
   "window_display": false
  },
  "vscode": {
   "interpreter": {
    "hash": "aee8b7b246df8f9039afb4144a1f6fd8d2ca17a180786b69acc140d282b71a49"
   }
  }
 },
 "nbformat": 4,
 "nbformat_minor": 4
}
