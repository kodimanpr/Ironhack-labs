{
 "cells": [
  {
   "cell_type": "markdown",
   "metadata": {},
   "source": [
    "## Words"
   ]
  },
  {
   "cell_type": "code",
   "execution_count": 2,
   "metadata": {},
   "outputs": [],
   "source": [
    "words = ['play', 'filling', 'bar', 'theatre', 'easygoing', 'date', 'lead', 'that', 'story',  'island']"
   ]
  },
  {
   "cell_type": "markdown",
   "metadata": {},
   "source": [
    "**Print every word in upper case**"
   ]
  },
  {
   "cell_type": "code",
   "execution_count": 3,
   "metadata": {},
   "outputs": [
    {
     "name": "stdout",
     "output_type": "stream",
     "text": [
      "PLAY\n",
      "FILLING\n",
      "BAR\n",
      "THEATRE\n",
      "EASYGOING\n",
      "DATE\n",
      "LEAD\n",
      "THAT\n",
      "STORY\n",
      "ISLAND\n"
     ]
    }
   ],
   "source": [
    "# your code here\n",
    "\n",
    "for element in words:\n",
    "    print(element.upper())"
   ]
  },
  {
   "cell_type": "markdown",
   "metadata": {},
   "source": [
    "**Create a new list containing only words with 5 or more letters**"
   ]
  },
  {
   "cell_type": "code",
   "execution_count": 4,
   "metadata": {},
   "outputs": [
    {
     "data": {
      "text/plain": [
       "['filling', 'theatre', 'easygoing', 'story', 'island']"
      ]
     },
     "execution_count": 4,
     "metadata": {},
     "output_type": "execute_result"
    }
   ],
   "source": [
    "# your code here\n",
    "\n",
    "new_list = []\n",
    "\n",
    "for element in words:\n",
    "    if len(element) >= 5:\n",
    "        new_list.append(element)\n",
    "\n",
    "new_list\n"
   ]
  },
  {
   "cell_type": "markdown",
   "metadata": {},
   "source": [
    "**Print the first word starting with \"t\"**"
   ]
  },
  {
   "cell_type": "code",
   "execution_count": 5,
   "metadata": {},
   "outputs": [
    {
     "name": "stdout",
     "output_type": "stream",
     "text": [
      "theatre\n"
     ]
    }
   ],
   "source": [
    "# your code here\n",
    "\n",
    "for element in words:\n",
    "    if element[0] == 't':\n",
    "        print(element)\n",
    "        break"
   ]
  },
  {
   "cell_type": "markdown",
   "metadata": {},
   "source": [
    "## Numbers"
   ]
  },
  {
   "cell_type": "markdown",
   "metadata": {},
   "source": [
    "**Create a list containing the square of every number from 1 to 10**"
   ]
  },
  {
   "cell_type": "code",
   "execution_count": 7,
   "metadata": {},
   "outputs": [
    {
     "data": {
      "text/plain": [
       "[1, 4, 9, 16, 25, 36, 49, 64, 81, 100]"
      ]
     },
     "execution_count": 7,
     "metadata": {},
     "output_type": "execute_result"
    }
   ],
   "source": [
    "# your code here\n",
    "\n",
    "square_numbers = [n**2 for n in range (1,11)]\n",
    "square_numbers"
   ]
  },
  {
   "cell_type": "markdown",
   "metadata": {},
   "source": [
    "**Print a list containing the square of every odd number from 1 to 10**"
   ]
  },
  {
   "cell_type": "code",
   "execution_count": 9,
   "metadata": {},
   "outputs": [
    {
     "data": {
      "text/plain": [
       "[1, 9, 25, 49, 81]"
      ]
     },
     "execution_count": 9,
     "metadata": {},
     "output_type": "execute_result"
    }
   ],
   "source": [
    "# your code here\n",
    "\n",
    "square_numbers = [n**2 for n in range (1,11) if n % 2 != 0]\n",
    "square_numbers"
   ]
  },
  {
   "cell_type": "markdown",
   "metadata": {},
   "source": [
    "**Create a list with the squares of all multiples of 8 below 1000**"
   ]
  },
  {
   "cell_type": "code",
   "execution_count": 15,
   "metadata": {},
   "outputs": [
    {
     "data": {
      "text/plain": [
       "[1,\n",
       " 81,\n",
       " 289,\n",
       " 625,\n",
       " 1089,\n",
       " 1681,\n",
       " 2401,\n",
       " 3249,\n",
       " 4225,\n",
       " 5329,\n",
       " 6561,\n",
       " 7921,\n",
       " 9409,\n",
       " 11025,\n",
       " 12769,\n",
       " 14641,\n",
       " 16641,\n",
       " 18769,\n",
       " 21025,\n",
       " 23409,\n",
       " 25921,\n",
       " 28561,\n",
       " 31329,\n",
       " 34225,\n",
       " 37249,\n",
       " 40401,\n",
       " 43681,\n",
       " 47089,\n",
       " 50625,\n",
       " 54289,\n",
       " 58081,\n",
       " 62001,\n",
       " 66049,\n",
       " 70225,\n",
       " 74529,\n",
       " 78961,\n",
       " 83521,\n",
       " 88209,\n",
       " 93025,\n",
       " 97969,\n",
       " 103041,\n",
       " 108241,\n",
       " 113569,\n",
       " 119025,\n",
       " 124609,\n",
       " 130321,\n",
       " 136161,\n",
       " 142129,\n",
       " 148225,\n",
       " 154449,\n",
       " 160801,\n",
       " 167281,\n",
       " 173889,\n",
       " 180625,\n",
       " 187489,\n",
       " 194481,\n",
       " 201601,\n",
       " 208849,\n",
       " 216225,\n",
       " 223729,\n",
       " 231361,\n",
       " 239121,\n",
       " 247009,\n",
       " 255025,\n",
       " 263169,\n",
       " 271441,\n",
       " 279841,\n",
       " 288369,\n",
       " 297025,\n",
       " 305809,\n",
       " 314721,\n",
       " 323761,\n",
       " 332929,\n",
       " 342225,\n",
       " 351649,\n",
       " 361201,\n",
       " 370881,\n",
       " 380689,\n",
       " 390625,\n",
       " 400689,\n",
       " 410881,\n",
       " 421201,\n",
       " 431649,\n",
       " 442225,\n",
       " 452929,\n",
       " 463761,\n",
       " 474721,\n",
       " 485809,\n",
       " 497025,\n",
       " 508369,\n",
       " 519841,\n",
       " 531441,\n",
       " 543169,\n",
       " 555025,\n",
       " 567009,\n",
       " 579121,\n",
       " 591361,\n",
       " 603729,\n",
       " 616225,\n",
       " 628849,\n",
       " 641601,\n",
       " 654481,\n",
       " 667489,\n",
       " 680625,\n",
       " 693889,\n",
       " 707281,\n",
       " 720801,\n",
       " 734449,\n",
       " 748225,\n",
       " 762129,\n",
       " 776161,\n",
       " 790321,\n",
       " 804609,\n",
       " 819025,\n",
       " 833569,\n",
       " 848241,\n",
       " 863041,\n",
       " 877969,\n",
       " 893025,\n",
       " 908209,\n",
       " 923521,\n",
       " 938961,\n",
       " 954529,\n",
       " 970225,\n",
       " 986049]"
      ]
     },
     "execution_count": 15,
     "metadata": {},
     "output_type": "execute_result"
    }
   ],
   "source": [
    "# your code here\n",
    "\n",
    "square_numbers = [n**2 for n in range (1, 1000, 8)]\n",
    "square_numbers"
   ]
  },
  {
   "cell_type": "markdown",
   "metadata": {},
   "source": [
    "## People"
   ]
  },
  {
   "cell_type": "code",
   "execution_count": 16,
   "metadata": {},
   "outputs": [],
   "source": [
    "people = [\n",
    "    {\n",
    "        \"name\": \"Juan\",\n",
    "        \"age\": 34,\n",
    "        \"n_kids\": 2\n",
    "    },\n",
    "    {\n",
    "        \"name\": \"Pepe\",\n",
    "        \"age\": 27,\n",
    "        \"n_kids\": 0\n",
    "    },\n",
    "    {\n",
    "        \"name\": \"Sonia\",\n",
    "        \"age\": 41,\n",
    "        \"n_kids\": 1\n",
    "    },\n",
    "    {\n",
    "        \"name\": \"Lucía\",\n",
    "        \"age\": 22,\n",
    "        \"n_kids\": 2\n",
    "    },\n",
    "    {\n",
    "        \"name\": \"Leo\",\n",
    "        \"age\": 55,\n",
    "        \"n_kids\": 5\n",
    "    }\n",
    "]"
   ]
  },
  {
   "cell_type": "markdown",
   "metadata": {},
   "source": [
    "**How many people are there?**"
   ]
  },
  {
   "cell_type": "code",
   "execution_count": 17,
   "metadata": {},
   "outputs": [
    {
     "data": {
      "text/plain": [
       "5"
      ]
     },
     "execution_count": 17,
     "metadata": {},
     "output_type": "execute_result"
    }
   ],
   "source": [
    "# your code here\n",
    "\n",
    "len(people)"
   ]
  },
  {
   "cell_type": "markdown",
   "metadata": {},
   "source": [
    "**How many people have kids**?"
   ]
  },
  {
   "cell_type": "code",
   "execution_count": 18,
   "metadata": {},
   "outputs": [
    {
     "data": {
      "text/plain": [
       "4"
      ]
     },
     "execution_count": 18,
     "metadata": {},
     "output_type": "execute_result"
    }
   ],
   "source": [
    "# your code here\n",
    "\n",
    "peopleWithKids = 0\n",
    "\n",
    "for element in people:\n",
    "    if element[\"n_kids\"] > 0:\n",
    "        peopleWithKids += 1\n",
    "\n",
    "peopleWithKids\n"
   ]
  },
  {
   "cell_type": "markdown",
   "metadata": {},
   "source": [
    "**How many kids do they have in total?**"
   ]
  },
  {
   "cell_type": "code",
   "execution_count": 19,
   "metadata": {},
   "outputs": [
    {
     "data": {
      "text/plain": [
       "10"
      ]
     },
     "execution_count": 19,
     "metadata": {},
     "output_type": "execute_result"
    }
   ],
   "source": [
    "# your code here\n",
    "\n",
    "peopleKids = 0\n",
    "\n",
    "for element in people:\n",
    "    if element[\"n_kids\"] > 0:\n",
    "        peopleKids += element[\"n_kids\"]\n",
    "\n",
    "peopleKids"
   ]
  },
  {
   "cell_type": "markdown",
   "metadata": {},
   "source": [
    "**In a year's time, names ending with \"a\" will have an extra kid. Create a list of dictionaries with people's info in a year's time**"
   ]
  },
  {
   "cell_type": "code",
   "execution_count": 23,
   "metadata": {},
   "outputs": [
    {
     "data": {
      "text/plain": [
       "[[{'name': 'Juan', 'age': 34, 'n_kids': 2},\n",
       "  {'name': 'Pepe', 'age': 27, 'n_kids': 0},\n",
       "  {'name': 'Sonia', 'age': 41, 'n_kids': 1},\n",
       "  {'name': 'Lucía', 'age': 22, 'n_kids': 2},\n",
       "  {'name': 'Leo', 'age': 55, 'n_kids': 5}],\n",
       " [{'name': 'Juan', 'age': 34, 'n_kids': 2},\n",
       "  {'name': 'Pepe', 'age': 27, 'n_kids': 0},\n",
       "  {'name': 'Sonia', 'age': 41, 'n_kids': 2},\n",
       "  {'name': 'Lucía', 'age': 22, 'n_kids': 3},\n",
       "  {'name': 'Leo', 'age': 55, 'n_kids': 5}]]"
      ]
     },
     "execution_count": 23,
     "metadata": {},
     "output_type": "execute_result"
    }
   ],
   "source": [
    "# your code here\n",
    "\n",
    "people2 = []\n",
    "\n",
    "for element in people:\n",
    "    person = element.copy()\n",
    "    \n",
    "    if person[\"name\"][-1] == 'a':\n",
    "        person[\"n_kids\"] += 1\n",
    "    \n",
    "    people2.append(person)\n",
    "\n",
    "people2\n",
    "\n",
    "yearsTime = [people, people2]\n",
    "yearsTime"
   ]
  }
 ],
 "metadata": {
  "kernelspec": {
   "display_name": "Python 3 (ipykernel)",
   "language": "python",
   "name": "python3"
  },
  "language_info": {
   "codemirror_mode": {
    "name": "ipython",
    "version": 3
   },
   "file_extension": ".py",
   "mimetype": "text/x-python",
   "name": "python",
   "nbconvert_exporter": "python",
   "pygments_lexer": "ipython3",
   "version": "3.11.7"
  },
  "toc": {
   "base_numbering": 1,
   "nav_menu": {},
   "number_sections": false,
   "sideBar": true,
   "skip_h1_title": false,
   "title_cell": "Table of Contents",
   "title_sidebar": "Contents",
   "toc_cell": false,
   "toc_position": {},
   "toc_section_display": true,
   "toc_window_display": true
  },
  "varInspector": {
   "cols": {
    "lenName": 16,
    "lenType": 16,
    "lenVar": 40
   },
   "kernels_config": {
    "python": {
     "delete_cmd_postfix": "",
     "delete_cmd_prefix": "del ",
     "library": "var_list.py",
     "varRefreshCmd": "print(var_dic_list())"
    },
    "r": {
     "delete_cmd_postfix": ") ",
     "delete_cmd_prefix": "rm(",
     "library": "var_list.r",
     "varRefreshCmd": "cat(var_dic_list()) "
    }
   },
   "types_to_exclude": [
    "module",
    "function",
    "builtin_function_or_method",
    "instance",
    "_Feature"
   ],
   "window_display": false
  },
  "vscode": {
   "interpreter": {
    "hash": "aee8b7b246df8f9039afb4144a1f6fd8d2ca17a180786b69acc140d282b71a49"
   }
  }
 },
 "nbformat": 4,
 "nbformat_minor": 4
}
