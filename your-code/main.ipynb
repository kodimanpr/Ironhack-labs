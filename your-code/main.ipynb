{
 "cells": [
  {
   "cell_type": "markdown",
   "metadata": {},
   "source": [
    "## Words"
   ]
  },
  {
   "cell_type": "code",
   "metadata": {
    "ExecuteTime": {
     "end_time": "2024-09-09T11:41:13.804873Z",
     "start_time": "2024-09-09T11:41:13.798972Z"
    }
   },
   "source": [
    "words = ['play', 'filling', 'bar', 'theatre', 'easygoing', 'date', 'lead', 'that', 'story',  'island']"
   ],
   "outputs": [],
   "execution_count": 2
  },
  {
   "cell_type": "markdown",
   "metadata": {},
   "source": [
    "**Print every word in upper case**"
   ]
  },
  {
   "cell_type": "code",
   "metadata": {
    "ExecuteTime": {
     "end_time": "2024-09-09T16:02:52.582027Z",
     "start_time": "2024-09-09T16:02:52.469514Z"
    }
   },
   "source": [
    "for word in words:\n",
    "    print(word.upper())"
   ],
   "outputs": [
    {
     "name": "stdout",
     "output_type": "stream",
     "text": [
      "PLAY\n",
      "FILLING\n",
      "BAR\n",
      "THEATRE\n",
      "EASYGOING\n",
      "DATE\n",
      "LEAD\n",
      "THAT\n",
      "STORY\n",
      "ISLAND\n"
     ]
    }
   ],
   "execution_count": 16
  },
  {
   "cell_type": "markdown",
   "metadata": {},
   "source": [
    "**Create a new list containing only words with 5 or more letters**"
   ]
  },
  {
   "cell_type": "code",
   "metadata": {
    "ExecuteTime": {
     "end_time": "2024-09-09T11:42:19.206050Z",
     "start_time": "2024-09-09T11:42:19.201784Z"
    }
   },
   "source": [
    "list = []\n",
    "for word in words:\n",
    "  if len(word) >= 5:\n",
    "      list.append(word)\n",
    "print(list)"
   ],
   "outputs": [
    {
     "name": "stdout",
     "output_type": "stream",
     "text": [
      "['filling', 'theatre', 'easygoing', 'story', 'island']\n"
     ]
    }
   ],
   "execution_count": 4
  },
  {
   "cell_type": "markdown",
   "metadata": {},
   "source": [
    "**Print the first word starting with \"t\"**"
   ]
  },
  {
   "cell_type": "code",
   "metadata": {
    "ExecuteTime": {
     "end_time": "2024-09-09T11:43:03.538386Z",
     "start_time": "2024-09-09T11:43:03.533534Z"
    }
   },
   "source": [
    "list = []\n",
    "for word in words:\n",
    "  if word[0] == 't':\n",
    "      print(word)\n",
    "      break\n"
   ],
   "outputs": [
    {
     "name": "stdout",
     "output_type": "stream",
     "text": [
      "theatre\n"
     ]
    }
   ],
   "execution_count": 6
  },
  {
   "cell_type": "markdown",
   "metadata": {},
   "source": [
    "## Numbers"
   ]
  },
  {
   "cell_type": "markdown",
   "metadata": {},
   "source": [
    "**Create a list containing the square of every number from 1 to 10**"
   ]
  },
  {
   "cell_type": "code",
   "metadata": {
    "ExecuteTime": {
     "end_time": "2024-09-09T11:45:09.302108Z",
     "start_time": "2024-09-09T11:45:09.297395Z"
    }
   },
   "source": [
    "for num in range(1,11):\n",
    "    print(num**2)"
   ],
   "outputs": [
    {
     "name": "stdout",
     "output_type": "stream",
     "text": [
      "1\n",
      "4\n",
      "9\n",
      "16\n",
      "25\n",
      "36\n",
      "49\n",
      "64\n",
      "81\n",
      "100\n"
     ]
    }
   ],
   "execution_count": 7
  },
  {
   "cell_type": "markdown",
   "metadata": {},
   "source": [
    "**Print a list containing the square of every odd number from 1 to 10**"
   ]
  },
  {
   "cell_type": "code",
   "metadata": {
    "ExecuteTime": {
     "end_time": "2024-09-09T11:47:41.058098Z",
     "start_time": "2024-09-09T11:47:41.050747Z"
    }
   },
   "source": [
    "list = []\n",
    "for num in range(1, 11):\n",
    "    if num % 2 != 0:\n",
    "        list.append(num ** 2)\n",
    "print(list)        "
   ],
   "outputs": [
    {
     "name": "stdout",
     "output_type": "stream",
     "text": [
      "[1, 9, 25, 49, 81]\n"
     ]
    }
   ],
   "execution_count": 8
  },
  {
   "cell_type": "markdown",
   "metadata": {},
   "source": [
    "**Create a list with the squares of all multiples of 8 below 1000**"
   ]
  },
  {
   "cell_type": "code",
   "metadata": {
    "ExecuteTime": {
     "end_time": "2024-09-09T16:03:50.295891Z",
     "start_time": "2024-09-09T16:03:50.276694Z"
    }
   },
   "source": [
    "list = []\n",
    "for num in range(1, 1001):\n",
    "    square = num ** 8\n",
    "    if square < 1000:\n",
    "        list.append(square)\n",
    "    else:\n",
    "        break\n",
    "print(list)   "
   ],
   "outputs": [
    {
     "name": "stdout",
     "output_type": "stream",
     "text": [
      "[1, 256]\n"
     ]
    }
   ],
   "execution_count": 17
  },
  {
   "cell_type": "markdown",
   "metadata": {},
   "source": [
    "## People"
   ]
  },
  {
   "cell_type": "code",
   "metadata": {
    "ExecuteTime": {
     "end_time": "2024-09-09T11:49:53.639038Z",
     "start_time": "2024-09-09T11:49:53.631643Z"
    }
   },
   "source": [
    "people = [\n",
    "    {\n",
    "        \"name\": \"Juan\",\n",
    "        \"age\": 34,\n",
    "        \"n_kids\": 2\n",
    "    },\n",
    "    {\n",
    "        \"name\": \"Pepe\",\n",
    "        \"age\": 27,\n",
    "        \"n_kids\": 0\n",
    "    },\n",
    "    {\n",
    "        \"name\": \"Sonia\",\n",
    "        \"age\": 41,\n",
    "        \"n_kids\": 1\n",
    "    },\n",
    "    {\n",
    "        \"name\": \"Lucía\",\n",
    "        \"age\": 22,\n",
    "        \"n_kids\": 2\n",
    "    },\n",
    "    {\n",
    "        \"name\": \"Leo\",\n",
    "        \"age\": 55,\n",
    "        \"n_kids\": 5\n",
    "    }\n",
    "]"
   ],
   "outputs": [],
   "execution_count": 10
  },
  {
   "cell_type": "markdown",
   "metadata": {},
   "source": [
    "**How many people are there?**"
   ]
  },
  {
   "cell_type": "code",
   "metadata": {
    "ExecuteTime": {
     "end_time": "2024-09-09T11:50:05.797886Z",
     "start_time": "2024-09-09T11:50:05.782308Z"
    }
   },
   "source": "len(people)",
   "outputs": [
    {
     "data": {
      "text/plain": [
       "5"
      ]
     },
     "execution_count": 11,
     "metadata": {},
     "output_type": "execute_result"
    }
   ],
   "execution_count": 11
  },
  {
   "cell_type": "markdown",
   "metadata": {},
   "source": [
    "**How many people have kids**?"
   ]
  },
  {
   "cell_type": "code",
   "metadata": {
    "ExecuteTime": {
     "end_time": "2024-09-09T11:51:11.757689Z",
     "start_time": "2024-09-09T11:51:11.751720Z"
    }
   },
   "source": [
    "withChildren = 0\n",
    "for person in people:\n",
    "    if person['n_kids'] > 0:\n",
    "        withChildren += 1\n",
    "print(f\"{withChildren} have children\")"
   ],
   "outputs": [
    {
     "name": "stdout",
     "output_type": "stream",
     "text": [
      "4 have children\n"
     ]
    }
   ],
   "execution_count": 12
  },
  {
   "cell_type": "markdown",
   "metadata": {},
   "source": [
    "**How many kids do they have in total?**"
   ]
  },
  {
   "cell_type": "code",
   "metadata": {
    "ExecuteTime": {
     "end_time": "2024-09-09T11:52:00.833982Z",
     "start_time": "2024-09-09T11:52:00.829394Z"
    }
   },
   "source": [
    "children = 0\n",
    "for person in people:\n",
    "    children += person['n_kids']\n",
    "print(children)"
   ],
   "outputs": [
    {
     "name": "stdout",
     "output_type": "stream",
     "text": [
      "10\n"
     ]
    }
   ],
   "execution_count": 13
  },
  {
   "cell_type": "markdown",
   "metadata": {},
   "source": [
    "**In a year's time, names ending with \"a\" will have an extra kid. Create a list of dictionaries with people's info in a year's time**"
   ]
  },
  {
   "cell_type": "code",
   "metadata": {
    "ExecuteTime": {
     "end_time": "2024-09-09T11:54:29.365113Z",
     "start_time": "2024-09-09T11:54:29.359104Z"
    }
   },
   "source": [
    "list = []\n",
    "for person in people:\n",
    "    if person['name'][-1] == \"a\":\n",
    "        person['n_kids'] += 1\n",
    "    list.append(person)\n",
    "print(list)    "
   ],
   "outputs": [
    {
     "name": "stdout",
     "output_type": "stream",
     "text": [
      "[{'name': 'Juan', 'age': 34, 'n_kids': 2}, {'name': 'Pepe', 'age': 27, 'n_kids': 0}, {'name': 'Sonia', 'age': 41, 'n_kids': 2}, {'name': 'Lucía', 'age': 22, 'n_kids': 3}, {'name': 'Leo', 'age': 55, 'n_kids': 5}]\n"
     ]
    }
   ],
   "execution_count": 15
  },
  {
   "metadata": {},
   "cell_type": "code",
   "outputs": [],
   "execution_count": null,
   "source": ""
  }
 ],
 "metadata": {
  "kernelspec": {
   "display_name": "Python 3 (ipykernel)",
   "language": "python",
   "name": "python3"
  },
  "language_info": {
   "codemirror_mode": {
    "name": "ipython",
    "version": 3
   },
   "file_extension": ".py",
   "mimetype": "text/x-python",
   "name": "python",
   "nbconvert_exporter": "python",
   "pygments_lexer": "ipython3",
   "version": "3.9.13"
  },
  "toc": {
   "base_numbering": 1,
   "nav_menu": {},
   "number_sections": false,
   "sideBar": true,
   "skip_h1_title": false,
   "title_cell": "Table of Contents",
   "title_sidebar": "Contents",
   "toc_cell": false,
   "toc_position": {},
   "toc_section_display": true,
   "toc_window_display": true
  },
  "varInspector": {
   "cols": {
    "lenName": 16,
    "lenType": 16,
    "lenVar": 40
   },
   "kernels_config": {
    "python": {
     "delete_cmd_postfix": "",
     "delete_cmd_prefix": "del ",
     "library": "var_list.py",
     "varRefreshCmd": "print(var_dic_list())"
    },
    "r": {
     "delete_cmd_postfix": ") ",
     "delete_cmd_prefix": "rm(",
     "library": "var_list.r",
     "varRefreshCmd": "cat(var_dic_list()) "
    }
   },
   "types_to_exclude": [
    "module",
    "function",
    "builtin_function_or_method",
    "instance",
    "_Feature"
   ],
   "window_display": false
  },
  "vscode": {
   "interpreter": {
    "hash": "aee8b7b246df8f9039afb4144a1f6fd8d2ca17a180786b69acc140d282b71a49"
   }
  }
 },
 "nbformat": 4,
 "nbformat_minor": 4
}
