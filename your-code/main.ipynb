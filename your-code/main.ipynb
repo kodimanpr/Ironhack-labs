{
 "cells": [
  {
   "cell_type": "markdown",
   "metadata": {},
   "source": [
    "## Words"
   ]
  },
  {
   "cell_type": "code",
   "execution_count": 1,
   "metadata": {},
   "outputs": [],
   "source": [
    "words = ['play', 'filling', 'bar', 'theatre', 'easygoing', 'date', 'lead', 'that', 'story',  'island']"
   ]
  },
  {
   "cell_type": "markdown",
   "metadata": {},
   "source": [
    "**Print every word in upper case**"
   ]
  },
  {
   "cell_type": "code",
   "execution_count": 2,
   "metadata": {},
   "outputs": [
    {
     "name": "stdout",
     "output_type": "stream",
     "text": [
      "['PLAY', 'FILLING', 'BAR', 'THEATRE', 'EASYGOING', 'DATE', 'LEAD', 'THAT', 'STORY', 'ISLAND']\n"
     ]
    }
   ],
   "source": [
    "# your code here\n",
    "\n",
    "words = ['play', 'filling', 'bar', 'theatre', 'easygoing', 'date', 'lead', 'that', 'story',  'island']\n",
    "\n",
    "uppercaselist=[] #create and emptylist to store the uppercase words \n",
    "#the loop goes trough each word in the list 'words' and appends it to the uppercaselist using the upper\n",
    "for each_word in words:\n",
    "    uppercaselist.append(each_word.upper())\n",
    "    \n",
    "\n",
    "\n",
    "print(uppercaselist)"
   ]
  },
  {
   "cell_type": "markdown",
   "metadata": {},
   "source": [
    "**Create a new list containing only words with 5 or more letters**"
   ]
  },
  {
   "cell_type": "code",
   "execution_count": 3,
   "metadata": {},
   "outputs": [
    {
     "name": "stdout",
     "output_type": "stream",
     "text": [
      "['story', 'bruno']\n"
     ]
    }
   ],
   "source": [
    "# your code here\n",
    "# your code here \n",
    "\n",
    "words = ['play', 'filling', 'bar', 'theatre', 'easygoing', 'date', 'lead', 'that', 'story',  'island', 'bruno']\n",
    "\n",
    "fiveletters=[] #create and emptylist to store the five letters words\n",
    "\n",
    "#the loop goes trough each word in the list 'words' and checks if the length is 5 letters and appends to the fiveletters empty lis\n",
    "for each_word in words:\n",
    "    if len(each_word) == 5:\n",
    "        fiveletters.append(each_word)\n",
    "    \n",
    "\n",
    "\n",
    "print(fiveletters)"
   ]
  },
  {
   "cell_type": "markdown",
   "metadata": {},
   "source": [
    "**Print the first word starting with \"t\"**"
   ]
  },
  {
   "cell_type": "code",
   "execution_count": 3,
   "metadata": {},
   "outputs": [
    {
     "name": "stdout",
     "output_type": "stream",
     "text": [
      "['theatre', 'that']\n"
     ]
    }
   ],
   "source": [
    "# your code here\n",
    "\n",
    "words = ['play', 'filling', 'bar', 'theatre', 'easygoing', 'date', 'lead', 'that', 'story',  'island', 'bruno']\n",
    "\n",
    "word_T = []\n",
    "\n",
    "for each_word in words:\n",
    "    if each_word[0] == 't': #checks if each word in the list as the first letter 't'\n",
    "        word_T.append(each_word) #appends to the empty list word_T the words that match the criteria \n",
    "\n",
    "print(word_T) "
   ]
  },
  {
   "cell_type": "markdown",
   "metadata": {},
   "source": [
    "## Numbers"
   ]
  },
  {
   "cell_type": "markdown",
   "metadata": {},
   "source": [
    "**Create a list containing the square of every number from 1 to 10**"
   ]
  },
  {
   "cell_type": "code",
   "execution_count": 4,
   "metadata": {},
   "outputs": [
    {
     "name": "stdout",
     "output_type": "stream",
     "text": [
      "[1, 4, 9, 16, 25, 36, 49, 64, 81, 100]\n"
     ]
    }
   ],
   "source": [
    "# your code here\n",
    "squared_numbers =[] #empty list\n",
    "\n",
    "for i in range (1,11): #checks in the range from 1 to 10 excluding 11 and including 1\n",
    "    squared_numbers.append(i**2) #appends to the list each number squared\n",
    "\n",
    "print(squared_numbers)"
   ]
  },
  {
   "cell_type": "markdown",
   "metadata": {},
   "source": [
    "**Print a list containing the square of every odd number from 1 to 10**"
   ]
  },
  {
   "cell_type": "code",
   "execution_count": 18,
   "metadata": {},
   "outputs": [
    {
     "name": "stdout",
     "output_type": "stream",
     "text": [
      "[1, 9, 25, 49, 81]\n"
     ]
    }
   ],
   "source": [
    "# your code here\n",
    "\n",
    "oddnumbers =[] #empty list\n",
    "\n",
    "for i in range (1,11): #checks in the range from 1 to 10 excluding 11 and including 1\n",
    "    if (i % 2) != 0: \n",
    "        oddnumbers.append(i ** 2)\n",
    "\n",
    "print(oddnumbers)"
   ]
  },
  {
   "cell_type": "markdown",
   "metadata": {},
   "source": [
    "**Create a list with the squares of all multiples of 8 below 1000**"
   ]
  },
  {
   "cell_type": "code",
   "execution_count": 6,
   "metadata": {},
   "outputs": [
    {
     "name": "stdout",
     "output_type": "stream",
     "text": [
      "[16, 64, 144, 256, 400, 576, 784, 1024, 1296, 1600, 1936, 2304, 2704, 3136, 3600, 4096, 4624, 5184, 5776, 6400, 7056, 7744, 8464, 9216, 10000, 10816, 11664, 12544, 13456, 14400, 15376, 16384, 17424, 18496, 19600, 20736, 21904, 23104, 24336, 25600, 26896, 28224, 29584, 30976, 32400, 33856, 35344, 36864, 38416, 40000, 41616, 43264, 44944, 46656, 48400, 50176, 51984, 53824, 55696, 57600, 59536, 61504, 63504, 65536, 67600, 69696, 71824, 73984, 76176, 78400, 80656, 82944, 85264, 87616, 90000, 92416, 94864, 97344, 99856, 102400, 104976, 107584, 110224, 112896, 115600, 118336, 121104, 123904, 126736, 129600, 132496, 135424, 138384, 141376, 144400, 147456, 150544, 153664, 156816, 160000, 163216, 166464, 169744, 173056, 176400, 179776, 183184, 186624, 190096, 193600, 197136, 200704, 204304, 207936, 211600, 215296, 219024, 222784, 226576, 230400, 234256, 238144, 242064, 246016, 250000, 254016, 258064, 262144, 266256, 270400, 274576, 278784, 283024, 287296, 291600, 295936, 300304, 304704, 309136, 313600, 318096, 322624, 327184, 331776, 336400, 341056, 345744, 350464, 355216, 360000, 364816, 369664, 374544, 379456, 384400, 389376, 394384, 399424, 404496, 409600, 414736, 419904, 425104, 430336, 435600, 440896, 446224, 451584, 456976, 462400, 467856, 473344, 478864, 484416, 490000, 495616, 501264, 506944, 512656, 518400, 524176, 529984, 535824, 541696, 547600, 553536, 559504, 565504, 571536, 577600, 583696, 589824, 595984, 602176, 608400, 614656, 620944, 627264, 633616, 640000, 646416, 652864, 659344, 665856, 672400, 678976, 685584, 692224, 698896, 705600, 712336, 719104, 725904, 732736, 739600, 746496, 753424, 760384, 767376, 774400, 781456, 788544, 795664, 802816, 810000, 817216, 824464, 831744, 839056, 846400, 853776, 861184, 868624, 876096, 883600, 891136, 898704, 906304, 913936, 921600, 929296, 937024, 944784, 952576, 960400, 968256, 976144, 984064, 992016, 1000000]\n"
     ]
    }
   ],
   "source": [
    "# your code here\n",
    "\n",
    "squared_numbers =[] #empty list\n",
    "\n",
    "for i in range (1,1001):\n",
    "    x = i ** 2 \n",
    "    if x % 8 == 0:\n",
    "        squared_numbers.append(x)\n",
    "\n",
    "print(squared_numbers)"
   ]
  },
  {
   "cell_type": "markdown",
   "metadata": {},
   "source": [
    "## People"
   ]
  },
  {
   "cell_type": "code",
   "execution_count": 2,
   "metadata": {},
   "outputs": [],
   "source": [
    "people = [\n",
    "    {\n",
    "        \"name\": \"Juan\",\n",
    "        \"age\": 34,\n",
    "        \"n_kids\": 2\n",
    "    },\n",
    "    {\n",
    "        \"name\": \"Pepe\",\n",
    "        \"age\": 27,\n",
    "        \"n_kids\": 0\n",
    "    },\n",
    "    {\n",
    "        \"name\": \"Sonia\",\n",
    "        \"age\": 41,\n",
    "        \"n_kids\": 1\n",
    "    },\n",
    "    {\n",
    "        \"name\": \"Lucía\",\n",
    "        \"age\": 22,\n",
    "        \"n_kids\": 2\n",
    "    },\n",
    "    {\n",
    "        \"name\": \"Leo\",\n",
    "        \"age\": 55,\n",
    "        \"n_kids\": 5\n",
    "    }\n",
    "]"
   ]
  },
  {
   "cell_type": "markdown",
   "metadata": {},
   "source": [
    "**How many people are there?**"
   ]
  },
  {
   "cell_type": "code",
   "execution_count": 10,
   "metadata": {},
   "outputs": [
    {
     "name": "stdout",
     "output_type": "stream",
     "text": [
      "5\n"
     ]
    }
   ],
   "source": [
    "# your code here\n",
    "\n",
    "num_People = len(people)\n",
    "\n",
    "print(num_People)\n",
    " \n"
   ]
  },
  {
   "cell_type": "markdown",
   "metadata": {},
   "source": [
    "**How many people have kids**?"
   ]
  },
  {
   "cell_type": "code",
   "execution_count": 12,
   "metadata": {},
   "outputs": [
    {
     "name": "stdout",
     "output_type": "stream",
     "text": [
      "4\n"
     ]
    }
   ],
   "source": [
    "# your code here\n",
    "\n",
    "kids = 0\n",
    "\n",
    "for person in people:\n",
    "    if person[\"n_kids\"] > 0:\n",
    "        kids += 1\n",
    "\n",
    "print(kids)"
   ]
  },
  {
   "cell_type": "markdown",
   "metadata": {},
   "source": [
    "**How many kids do they have in total?**"
   ]
  },
  {
   "cell_type": "code",
   "execution_count": 16,
   "metadata": {},
   "outputs": [
    {
     "name": "stdout",
     "output_type": "stream",
     "text": [
      "10\n"
     ]
    }
   ],
   "source": [
    "# your code here\n",
    "\n",
    "total_kids= 0\n",
    "\n",
    "for i in people:\n",
    "    total_kids += i[\"n_kids\"]\n",
    "\n",
    "print(total_kids)"
   ]
  },
  {
   "cell_type": "markdown",
   "metadata": {},
   "source": [
    "**In a year's time, names ending with \"a\" will have an extra kid. Create a list of dictionaries with people's info in a year's time**"
   ]
  },
  {
   "cell_type": "code",
   "execution_count": 7,
   "metadata": {},
   "outputs": [
    {
     "name": "stdout",
     "output_type": "stream",
     "text": [
      "[{'name': 'Sonia', 'n_kids': 2, 'age': 42}, {'name': 'Lucía', 'n_kids': 3, 'age': 23}]\n"
     ]
    }
   ],
   "source": [
    "# your code here\n",
    "\n",
    "people_future = []\n",
    "\n",
    "for person in people:\n",
    "    if person[\"name\"].endswith(\"a\"):\n",
    "        person_future = {\n",
    "            \"name\": person[\"name\"],\n",
    "            \"n_kids\": person[\"n_kids\"] + 1,  # Add an extra kid\n",
    "            \"age\": person[\"age\"] + 1         # Increase age by 1\n",
    "        }\n",
    "        people_future.append(person_future)\n",
    "\n",
    "print(people_future)\n"
   ]
  }
 ],
 "metadata": {
  "kernelspec": {
   "display_name": "Python 3 (ipykernel)",
   "language": "python",
   "name": "python3"
  },
  "language_info": {
   "codemirror_mode": {
    "name": "ipython",
    "version": 3
   },
   "file_extension": ".py",
   "mimetype": "text/x-python",
   "name": "python",
   "nbconvert_exporter": "python",
   "pygments_lexer": "ipython3",
   "version": "3.12.4"
  },
  "toc": {
   "base_numbering": 1,
   "nav_menu": {},
   "number_sections": false,
   "sideBar": true,
   "skip_h1_title": false,
   "title_cell": "Table of Contents",
   "title_sidebar": "Contents",
   "toc_cell": false,
   "toc_position": {},
   "toc_section_display": true,
   "toc_window_display": true
  },
  "varInspector": {
   "cols": {
    "lenName": 16,
    "lenType": 16,
    "lenVar": 40
   },
   "kernels_config": {
    "python": {
     "delete_cmd_postfix": "",
     "delete_cmd_prefix": "del ",
     "library": "var_list.py",
     "varRefreshCmd": "print(var_dic_list())"
    },
    "r": {
     "delete_cmd_postfix": ") ",
     "delete_cmd_prefix": "rm(",
     "library": "var_list.r",
     "varRefreshCmd": "cat(var_dic_list()) "
    }
   },
   "types_to_exclude": [
    "module",
    "function",
    "builtin_function_or_method",
    "instance",
    "_Feature"
   ],
   "window_display": false
  },
  "vscode": {
   "interpreter": {
    "hash": "aee8b7b246df8f9039afb4144a1f6fd8d2ca17a180786b69acc140d282b71a49"
   }
  }
 },
 "nbformat": 4,
 "nbformat_minor": 4
}
