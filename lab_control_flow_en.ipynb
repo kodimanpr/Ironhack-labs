{
  "cells": [
    {
      "cell_type": "markdown",
      "metadata": {
        "id": "dVLyDIiiv5_L"
      },
      "source": [
        "## Words"
      ]
    },
    {
      "cell_type": "code",
      "execution_count": 21,
      "metadata": {
        "id": "NDFozOTqv5_M"
      },
      "outputs": [],
      "source": [
        "words = ['play', 'filling', 'bar', 'theatre', 'easygoing', 'date', 'lead', 'that', 'story',  'island']"
      ]
    },
    {
      "cell_type": "markdown",
      "metadata": {
        "id": "PQ-4NxXVv5_N"
      },
      "source": [
        "**Print every word in upper case**"
      ]
    },
    {
      "cell_type": "code",
      "execution_count": null,
      "metadata": {
        "id": "dj4K1VrSv5_N"
      },
      "outputs": [],
      "source": [
        "for word in words:\n",
        "    print(word.upper())\n",
        "\n"
      ]
    },
    {
      "cell_type": "markdown",
      "metadata": {
        "id": "62fCH6biv5_N"
      },
      "source": [
        "**Create a new list containing only words with 5 or more letters**"
      ]
    },
    {
      "cell_type": "code",
      "execution_count": null,
      "metadata": {
        "id": "48skyfrfv5_N"
      },
      "outputs": [],
      "source": [
        "long_words = [word for word in words if len(word) >= 5]\n",
        "print(long_words)"
      ]
    },
    {
      "cell_type": "markdown",
      "metadata": {
        "id": "bg1eHpPFv5_N"
      },
      "source": [
        "**Print the first word starting with \"t\"**"
      ]
    },
    {
      "cell_type": "code",
      "execution_count": null,
      "metadata": {
        "id": "8admwk-5v5_N"
      },
      "outputs": [],
      "source": [
        "first_t_word = next((word for word in words if word.startswith('t')), None)\n",
        "print(first_t_word)"
      ]
    },
    {
      "cell_type": "markdown",
      "metadata": {
        "id": "qMo72fR7v5_N"
      },
      "source": [
        "## Numbers"
      ]
    },
    {
      "cell_type": "markdown",
      "metadata": {
        "id": "r8eJ1rVqv5_N"
      },
      "source": [
        "**Create a list containing the square of every number from 1 to 10**"
      ]
    },
    {
      "cell_type": "code",
      "execution_count": null,
      "metadata": {
        "id": "Pn3hDYvtv5_N"
      },
      "outputs": [],
      "source": [
        "squares = [num**2 for num in range(1, 11)]\n",
        "print(squares)"
      ]
    },
    {
      "cell_type": "markdown",
      "metadata": {
        "id": "-pk9b_0Tv5_N"
      },
      "source": [
        "**Print a list containing the square of every odd number from 1 to 10**"
      ]
    },
    {
      "cell_type": "code",
      "execution_count": null,
      "metadata": {
        "id": "1fd4DjmDv5_N"
      },
      "outputs": [],
      "source": [
        "odd_squares = [num**2 for num in range(1, 11) if num % 2 != 0]\n",
        "print(odd_squares)"
      ]
    },
    {
      "cell_type": "markdown",
      "metadata": {
        "id": "bluy7osUv5_N"
      },
      "source": [
        "**Create a list with the squares of all multiples of 8 below 1000**"
      ]
    },
    {
      "cell_type": "code",
      "execution_count": null,
      "metadata": {
        "id": "vhDlNaS5v5_N"
      },
      "outputs": [],
      "source": [
        "multiples_of_8_squares = [num**2 for num in range(8, 1000, 8)]\n",
        "print(multiples_of_8_squares)\n"
      ]
    },
    {
      "cell_type": "markdown",
      "metadata": {
        "id": "AgWAIxHfv5_N"
      },
      "source": [
        "## People"
      ]
    },
    {
      "cell_type": "code",
      "execution_count": 33,
      "metadata": {
        "id": "QNbQ0T6Dv5_O"
      },
      "outputs": [],
      "source": [
        "people = [\n",
        "    {\n",
        "        \"name\": \"Juan\",\n",
        "        \"age\": 34,\n",
        "        \"n_kids\": 2\n",
        "    },\n",
        "    {\n",
        "        \"name\": \"Pepe\",\n",
        "        \"age\": 27,\n",
        "        \"n_kids\": 0\n",
        "    },\n",
        "    {\n",
        "        \"name\": \"Sonia\",\n",
        "        \"age\": 41,\n",
        "        \"n_kids\": 1\n",
        "    },\n",
        "    {\n",
        "        \"name\": \"Lucía\",\n",
        "        \"age\": 22,\n",
        "        \"n_kids\": 2\n",
        "    },\n",
        "    {\n",
        "        \"name\": \"Leo\",\n",
        "        \"age\": 55,\n",
        "        \"n_kids\": 5\n",
        "    }\n",
        "]"
      ]
    },
    {
      "cell_type": "markdown",
      "metadata": {
        "id": "HtvzZk6Jv5_O"
      },
      "source": [
        "**How many people are there?**"
      ]
    },
    {
      "cell_type": "code",
      "execution_count": null,
      "metadata": {
        "id": "jg35kqZcv5_O"
      },
      "outputs": [],
      "source": [
        "total_people = len(people)\n",
        "print(total_people)"
      ]
    },
    {
      "cell_type": "markdown",
      "metadata": {
        "id": "pgXapkwcv5_O"
      },
      "source": [
        "**How many people have kids**?"
      ]
    },
    {
      "cell_type": "code",
      "execution_count": null,
      "metadata": {
        "id": "Sl0UY-xUv5_O"
      },
      "outputs": [],
      "source": [
        "people_with_kids = len([person for person in people if person[\"n_kids\"] > 0])\n",
        "print(people_with_kids)\n"
      ]
    },
    {
      "cell_type": "markdown",
      "metadata": {
        "id": "lBSRXVeAv5_O"
      },
      "source": [
        "**How many kids do they have in total?**"
      ]
    },
    {
      "cell_type": "code",
      "execution_count": null,
      "metadata": {
        "id": "BvjlePj_v5_O"
      },
      "outputs": [],
      "source": [
        "total_kids = sum(person[\"n_kids\"] for person in people)\n",
        "print(total_kids)\n"
      ]
    },
    {
      "cell_type": "markdown",
      "metadata": {
        "id": "bSC-9Qzzv5_O"
      },
      "source": [
        "**In a year's time, names ending with \"a\" will have an extra kid. Create a list of dictionaries with people's info in a year's time**"
      ]
    },
    {
      "cell_type": "code",
      "execution_count": null,
      "metadata": {
        "id": "yIc3eo9tv5_O"
      },
      "outputs": [],
      "source": [
        "updated_people = [\n",
        "    {**person, \"n_kids\": person[\"n_kids\"] + 1} if person[\"name\"].endswith('a') else person\n",
        "    for person in people\n",
        "]\n",
        "print(updated_people)"
      ]
    }
  ],
  "metadata": {
    "kernelspec": {
      "display_name": "Python 3 (ipykernel)",
      "language": "python",
      "name": "python3"
    },
    "language_info": {
      "codemirror_mode": {
        "name": "ipython",
        "version": 3
      },
      "file_extension": ".py",
      "mimetype": "text/x-python",
      "name": "python",
      "nbconvert_exporter": "python",
      "pygments_lexer": "ipython3",
      "version": "3.9.13"
    },
    "toc": {
      "base_numbering": 1,
      "nav_menu": {},
      "number_sections": false,
      "sideBar": true,
      "skip_h1_title": false,
      "title_cell": "Table of Contents",
      "title_sidebar": "Contents",
      "toc_cell": false,
      "toc_position": {},
      "toc_section_display": true,
      "toc_window_display": true
    },
    "varInspector": {
      "cols": {
        "lenName": 16,
        "lenType": 16,
        "lenVar": 40
      },
      "kernels_config": {
        "python": {
          "delete_cmd_postfix": "",
          "delete_cmd_prefix": "del ",
          "library": "var_list.py",
          "varRefreshCmd": "print(var_dic_list())"
        },
        "r": {
          "delete_cmd_postfix": ") ",
          "delete_cmd_prefix": "rm(",
          "library": "var_list.r",
          "varRefreshCmd": "cat(var_dic_list()) "
        }
      },
      "types_to_exclude": [
        "module",
        "function",
        "builtin_function_or_method",
        "instance",
        "_Feature"
      ],
      "window_display": false
    },
    "vscode": {
      "interpreter": {
        "hash": "aee8b7b246df8f9039afb4144a1f6fd8d2ca17a180786b69acc140d282b71a49"
      }
    },
    "colab": {
      "provenance": []
    }
  },
  "nbformat": 4,
  "nbformat_minor": 0
}